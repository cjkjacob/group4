{
 "cells": [
  {
   "cell_type": "markdown",
   "id": "1f15c357-c4d5-48de-aabd-d79a606e4612",
   "metadata": {},
   "source": [
    "# Plotnine Tutorial: Understanding the Grammar of Graphics"
   ]
  },
  {
   "cell_type": "markdown",
   "id": "cfc8f10b-3b6c-4606-8179-4e81d6552e45",
   "metadata": {},
   "source": [
    "## 1. Introduction to Plotnine\n",
    "plotnine is a data visualization package for Python based on the Grammar of Graphics, which is a system for understanding and building plots. The grammar describes how plots are constructed by combining data, aesthetic mappings, geometric objects, and other components.\n",
    "\n",
    "To begin, you’ll need to install the plotnine package if you don’t have it installed:\n",
    "\n",
    "```bash\n",
    "pip install plotnine\n",
    "```\n",
    "\n",
    "\n",
    "## 2. The Grammar of Graphics\n",
    "The Grammar of Graphics consists of the following key components:\n",
    "\n",
    "- Data: The data you want to visualize.  \n",
    "- Aesthetics (aes): How the data is mapped to visual properties, such as x and y coordinates, color, size, etc.  \n",
    "- Geometries (geom): The type of plot, like points, lines, bars, etc.  \n",
    "- Facets: Subplots based on the data.  \n",
    "- Scales: Control the mapping from data to aesthetic properties.  \n",
    "- Coordinate systems: Adjust how data is projected on the plane (Cartesian, rotations, polar, etc.).  \n",
    "- Themes: Adjust the non-data elements like background, labels, gridlines, etc.\n",
    "\n",
    "\n",
    "## 3. Creating Your First Plot\n",
    "Let’s begin by creating a simple scatter plot using the famous mtcars dataset. We’ll show how to set up the basic structure and gradually build complexity.\n",
    "\n"
   ]
  },
  {
   "cell_type": "code",
   "execution_count": 9,
   "id": "0a4776bd-f8bf-4a7f-8f1d-558c6dc12b89",
   "metadata": {},
   "outputs": [],
   "source": [
    "# Import required libraries\n",
    "import pandas as pd\n",
    "from plotnine import ggplot, aes, geom_point, labs"
   ]
  },
  {
   "cell_type": "code",
   "execution_count": 34,
   "id": "69a02de5-4996-49ee-91a6-d1f60d650404",
   "metadata": {},
   "outputs": [
    {
     "name": "stdout",
     "output_type": "stream",
     "text": [
      "<class 'pandas.core.frame.DataFrame'>\n",
      "RangeIndex: 32 entries, 0 to 31\n",
      "Data columns (total 14 columns):\n",
      " #   Column   Non-Null Count  Dtype  \n",
      "---  ------   --------------  -----  \n",
      " 0   mpg      32 non-null     float64\n",
      " 1   cyl      32 non-null     int64  \n",
      " 2   disp     32 non-null     float64\n",
      " 3   hp       32 non-null     int64  \n",
      " 4   drat     32 non-null     float64\n",
      " 5   wt       32 non-null     float64\n",
      " 6   qsec     32 non-null     float64\n",
      " 7   vs       32 non-null     int64  \n",
      " 8   am       32 non-null     int64  \n",
      " 9   gear     32 non-null     int64  \n",
      " 10  carb     32 non-null     int64  \n",
      " 11  fast     32 non-null     int64  \n",
      " 12  cars     32 non-null     object \n",
      " 13  carname  32 non-null     object \n",
      "dtypes: float64(5), int64(7), object(2)\n",
      "memory usage: 3.6+ KB\n"
     ]
    },
    {
     "name": "stderr",
     "output_type": "stream",
     "text": [
      "/Users/janice/venv477/lib/python3.12/site-packages/plotnine/ggplot.py:606: PlotnineWarning: Saving 6.4 x 4.8 in image.\n",
      "/Users/janice/venv477/lib/python3.12/site-packages/plotnine/ggplot.py:607: PlotnineWarning: Filename: firstplot_oenardi.png\n"
     ]
    }
   ],
   "source": [
    "# Load the mtcars dataset\n",
    "#the below lines have been added by chris to avoid the error\n",
    "import requests, io\n",
    "url = 'https://raw.githubusercontent.com/selva86/datasets/master/mtcars.csv'\n",
    "s = requests.get(url).content\n",
    "\n",
    "mtcars = pd.read_csv(io.StringIO(s.decode('utf-8')))\n",
    "mtcars.info()\n",
    "\n",
    "# Create a basic scatter plot\n",
    "firstplot = (ggplot(mtcars, aes(x ='wt', y ='mpg')) +\n",
    " geom_point() +\n",
    " labs(title ='Scatter Plot of MPG vs Weight',\n",
    "      x ='Weight (1000 lbs)',\n",
    "      y ='Miles per Gallon'))\n",
    "\n",
    "firstplot.save(\"firstplot_oenardi.png\")"
   ]
  },
  {
   "cell_type": "code",
   "execution_count": null,
   "id": "e194029c-8a36-4e8a-b301-0846cdebf956",
   "metadata": {},
   "outputs": [],
   "source": []
  },
  {
   "cell_type": "markdown",
   "id": "5bc99634-e897-44b8-a291-9243cd232075",
   "metadata": {},
   "source": [
    "## 4. Adding Aesthetic Mappings\n",
    "In the Grammar of Graphics, aesthetics control how data points are represented visually. You can map variables to size, color, shape, and more."
   ]
  },
  {
   "cell_type": "markdown",
   "id": "4085e267-72aa-4ce6-b3eb-90a783b07fb6",
   "metadata": {},
   "source": [
    "**Example:** Color by cyl (number of cylinders)"
   ]
  },
  {
   "cell_type": "code",
   "execution_count": 33,
   "id": "633b87ff-34b3-40c0-972f-e682f056bc56",
   "metadata": {},
   "outputs": [
    {
     "name": "stderr",
     "output_type": "stream",
     "text": [
      "/Users/janice/venv477/lib/python3.12/site-packages/plotnine/ggplot.py:606: PlotnineWarning: Saving 6.4 x 4.8 in image.\n",
      "/Users/janice/venv477/lib/python3.12/site-packages/plotnine/ggplot.py:607: PlotnineWarning: Filename: plot_oenardi.png\n"
     ]
    }
   ],
   "source": [
    "plot = (ggplot(mtcars, aes(x='wt', y='mpg', color='factor(cyl)')) +\n",
    " geom_point() +\n",
    " labs(title='MPG vs Weight by Cylinder',\n",
    "      x='Weight (1000 lbs)',\n",
    "      y='Miles per Gallon',\n",
    "      color='Cylinders'))\n",
    "\n",
    "plot.save(\"plot_oenardi.png\")"
   ]
  },
  {
   "cell_type": "markdown",
   "id": "143134d1-40a6-4368-afe1-6fed1a570110",
   "metadata": {},
   "source": [
    "**Example:** Size by horsepower (hp)"
   ]
  },
  {
   "cell_type": "code",
   "execution_count": 32,
   "id": "05542449-502d-46e4-b571-15c41538de75",
   "metadata": {},
   "outputs": [
    {
     "name": "stderr",
     "output_type": "stream",
     "text": [
      "/Users/janice/venv477/lib/python3.12/site-packages/plotnine/ggplot.py:606: PlotnineWarning: Saving 6.4 x 4.8 in image.\n",
      "/Users/janice/venv477/lib/python3.12/site-packages/plotnine/ggplot.py:607: PlotnineWarning: Filename: plot-colored_oenardi.png\n"
     ]
    }
   ],
   "source": [
    "plotcolor = (ggplot(mtcars, aes(x='wt', y='mpg', color='factor(cyl)', size='hp')) +\n",
    " geom_point() +\n",
    " labs(title='MPG vs Weight by Cylinder and Horsepower',\n",
    "      x='Weight (1000 lbs)',\n",
    "      y='Miles per Gallon',\n",
    "      color='Cylinders',\n",
    "      size='Horsepower'))\n",
    "\n",
    "plotcolor.save(\"plot-colored_oenardi.png\")"
   ]
  },
  {
   "cell_type": "markdown",
   "id": "3060297d-b885-4105-8fe0-632fba23764f",
   "metadata": {},
   "source": [
    "## 5. Geometric Objects\n",
    "geom_* specifies the type of plot. You can create scatter plots, line charts, bar plots, histograms, etc."
   ]
  },
  {
   "cell_type": "markdown",
   "id": "d672d4ba-1077-45c2-bc36-6c0984c31397",
   "metadata": {},
   "source": [
    "**Example:** Adding a smooth line (geom_smooth)"
   ]
  },
  {
   "cell_type": "code",
   "execution_count": 30,
   "id": "6cc5d1c2-4fbc-459d-9ef6-7ee45a8dedeb",
   "metadata": {},
   "outputs": [
    {
     "name": "stderr",
     "output_type": "stream",
     "text": [
      "/Users/janice/venv477/lib/python3.12/site-packages/plotnine/ggplot.py:606: PlotnineWarning: Saving 6.4 x 4.8 in image.\n",
      "/Users/janice/venv477/lib/python3.12/site-packages/plotnine/ggplot.py:607: PlotnineWarning: Filename: geometric_objects_oenardi.png\n"
     ]
    }
   ],
   "source": [
    "from plotnine import geom_smooth\n",
    "\n",
    "geometric = (ggplot(mtcars, aes(x='wt', y='mpg', color = 'factor(cyl)')) +\n",
    " geom_point() +\n",
    " geom_smooth(method='lm') +  # Linear regression line\n",
    " labs(title='MPG vs Weight with Regression Line',\n",
    "      x='Weight (1000 lbs)',\n",
    "      y='Miles per Gallon'))\n",
    "\n",
    "geometric.save(\"geometric_objects_oenardi.png\")"
   ]
  },
  {
   "cell_type": "markdown",
   "id": "1513e235-795e-405c-902c-194399e321b7",
   "metadata": {},
   "source": [
    "## 6. Faceting\n",
    "Faceting allows you to split your plot into multiple panels based on a factor."
   ]
  },
  {
   "cell_type": "markdown",
   "id": "0e9f4ce1-05cf-4859-ad5d-07e78e54d0d5",
   "metadata": {},
   "source": [
    "**Example:** Facet by cyl"
   ]
  },
  {
   "cell_type": "code",
   "execution_count": 29,
   "id": "a7a3010d-c9e5-4abe-9110-a44522e4db94",
   "metadata": {},
   "outputs": [
    {
     "name": "stderr",
     "output_type": "stream",
     "text": [
      "/Users/janice/venv477/lib/python3.12/site-packages/plotnine/ggplot.py:606: PlotnineWarning: Saving 6.4 x 4.8 in image.\n",
      "/Users/janice/venv477/lib/python3.12/site-packages/plotnine/ggplot.py:607: PlotnineWarning: Filename: faceting_oenardi.png\n"
     ]
    }
   ],
   "source": [
    "from plotnine import facet_wrap\n",
    "\n",
    "faceting = (ggplot(mtcars, aes(x='wt', y='mpg')) +\n",
    " geom_point() +\n",
    " facet_wrap('~cyl') +  # Split into subplots by cylinders\n",
    " labs(title = 'MPG vs Weight Faceted by Cylinder',\n",
    "      x = 'Weight (1000 lbs)',\n",
    "      y = 'Miles per Gallon'))\n",
    "\n",
    "faceting.save(\"faceting_oenardi.png\")"
   ]
  },
  {
   "cell_type": "markdown",
   "id": "f2e61857-e2f7-44b4-92a3-7243d1c70823",
   "metadata": {},
   "source": [
    "## 7. Customizing Scales\n",
    "Scales control the mapping from data to aesthetic attributes. You can customize scales for color, size, and more."
   ]
  },
  {
   "cell_type": "markdown",
   "id": "f5385e41-7d39-4081-b75c-07fcd1a9969d",
   "metadata": {},
   "source": [
    "**Example:** Custom Color Scale"
   ]
  },
  {
   "cell_type": "code",
   "execution_count": 28,
   "id": "88c9351e-14dc-400e-8a99-ae1566c07da8",
   "metadata": {},
   "outputs": [
    {
     "name": "stderr",
     "output_type": "stream",
     "text": [
      "/Users/janice/venv477/lib/python3.12/site-packages/plotnine/ggplot.py:606: PlotnineWarning: Saving 6.4 x 4.8 in image.\n",
      "/Users/janice/venv477/lib/python3.12/site-packages/plotnine/ggplot.py:607: PlotnineWarning: Filename: customizing_scales_oenardi.png\n"
     ]
    }
   ],
   "source": [
    "from plotnine import scale_color_manual\n",
    "\n",
    "scales = (ggplot(mtcars, aes(x='wt', y='mpg', color='factor(cyl)')) +\n",
    " geom_point() +\n",
    " scale_color_manual(values=['#1f77b4', '#ff7f0e', '#2ca02c']) +  # Custom colors\n",
    " labs(title='MPG vs Weight with Custom Colors',\n",
    "      x='Weight (1000 lbs)',\n",
    "      y='Miles per Gallon',\n",
    "      color='Cylinders'))\n",
    "\n",
    "scales.save(\"customizing_scales_oenardi.png\")"
   ]
  },
  {
   "cell_type": "markdown",
   "id": "d0452d77-f208-47eb-978d-0d91dc7a8eaf",
   "metadata": {},
   "source": [
    "## 8. Flip Coordinates\n",
    "Create a bar plot showing distribution of cylinder"
   ]
  },
  {
   "cell_type": "markdown",
   "id": "03d61d71-fa07-482a-a070-cb96ae593938",
   "metadata": {},
   "source": [
    "**Example:** Fliping coordinates axis"
   ]
  },
  {
   "cell_type": "code",
   "execution_count": 27,
   "id": "fd69c7d0-9673-4de1-ae3b-cb282e509950",
   "metadata": {},
   "outputs": [
    {
     "name": "stderr",
     "output_type": "stream",
     "text": [
      "/Users/janice/venv477/lib/python3.12/site-packages/plotnine/ggplot.py:606: PlotnineWarning: Saving 6.4 x 4.8 in image.\n",
      "/Users/janice/venv477/lib/python3.12/site-packages/plotnine/ggplot.py:607: PlotnineWarning: Filename: flip_coordinates_Oenardi_092524.png\n"
     ]
    }
   ],
   "source": [
    "from plotnine import geom_bar, coord_flip\n",
    "\n",
    "# Create a bar plot showing distribution of cylinders\n",
    "flip = (ggplot(mtcars, aes(x='factor(cyl)', fill='factor(cyl)')) +\n",
    " geom_bar(width=1) +\n",
    " coord_flip() +  # Flip coordinates as a simple workaround\n",
    " labs(title='Distribution of Cylinders',\n",
    "      x='Cylinders',\n",
    "      fill='Cylinders'))\n",
    "\n",
    "flip.save(\"flip_coordinates_Oenardi_092524.png\")"
   ]
  },
  {
   "cell_type": "markdown",
   "id": "94e2399c-3506-4829-9025-e84d3a32a14d",
   "metadata": {},
   "source": [
    "##  9. Themes\n",
    "Themes allow you to adjust the non-data aspects of the plot, such as background, axis labels, and gridlines."
   ]
  },
  {
   "cell_type": "markdown",
   "id": "889b9a86-f55c-4704-b495-243e33387fe0",
   "metadata": {},
   "source": [
    "**Example:** Apply a Minimal Theme"
   ]
  },
  {
   "cell_type": "code",
   "execution_count": 26,
   "id": "b13eb025-e5f6-48c5-89e6-14c4e2a20321",
   "metadata": {},
   "outputs": [
    {
     "name": "stderr",
     "output_type": "stream",
     "text": [
      "/Users/janice/venv477/lib/python3.12/site-packages/plotnine/ggplot.py:606: PlotnineWarning: Saving 6.4 x 4.8 in image.\n",
      "/Users/janice/venv477/lib/python3.12/site-packages/plotnine/ggplot.py:607: PlotnineWarning: Filename: minimal_theme.png\n"
     ]
    }
   ],
   "source": [
    "from plotnine import theme_minimal\n",
    "\n",
    "theme = (ggplot(mtcars, aes(x='wt', y='mpg')) +\n",
    " geom_point() +\n",
    " theme_minimal() +  # Minimalistic theme\n",
    " labs(title='MPG vs Weight with Minimal Theme',\n",
    "      x='Weight (1000 lbs)',\n",
    "      y='Miles per Gallon'))\n",
    "theme.save(\"minimal_theme.png\")"
   ]
  },
  {
   "cell_type": "markdown",
   "id": "30b32fb0-46d6-469c-86df-bd8fac53f70c",
   "metadata": {},
   "source": [
    "## 10. Saving the Plot\n",
    "You can save your plot using the save method."
   ]
  },
  {
   "cell_type": "markdown",
   "id": "20824c12-20ec-4014-81cb-8aff8fa26c99",
   "metadata": {},
   "source": [
    "**Example:** Save the plot"
   ]
  },
  {
   "cell_type": "code",
   "execution_count": 25,
   "id": "4af477f3-0943-4292-97c0-eba6f5b2dd1e",
   "metadata": {},
   "outputs": [
    {
     "name": "stderr",
     "output_type": "stream",
     "text": [
      "/Users/janice/venv477/lib/python3.12/site-packages/plotnine/ggplot.py:606: PlotnineWarning: Saving 6.4 x 4.8 in image.\n",
      "/Users/janice/venv477/lib/python3.12/site-packages/plotnine/ggplot.py:607: PlotnineWarning: Filename: mpg_vs_weight.png\n"
     ]
    }
   ],
   "source": [
    "# Save the plot to a file\n",
    "p = (ggplot(mtcars, aes(x='wt', y='mpg')) +\n",
    "     geom_point() +\n",
    "     labs(title='MPG vs Weight',\n",
    "          x='Weight (1000 lbs)',\n",
    "          y='Miles per Gallon'))\n",
    "\n",
    "p.save(\"mpg_vs_weight.png\")"
   ]
  },
  {
   "cell_type": "code",
   "execution_count": null,
   "id": "cb7afa1e-392d-4911-bbc9-2cf43c55209b",
   "metadata": {},
   "outputs": [],
   "source": []
  }
 ],
 "metadata": {
  "kernelspec": {
   "display_name": "Python 3 (ipykernel)",
   "language": "python",
   "name": "python3"
  },
  "language_info": {
   "codemirror_mode": {
    "name": "ipython",
    "version": 3
   },
   "file_extension": ".py",
   "mimetype": "text/x-python",
   "name": "python",
   "nbconvert_exporter": "python",
   "pygments_lexer": "ipython3",
   "version": "3.12.6"
  }
 },
 "nbformat": 4,
 "nbformat_minor": 5
}
