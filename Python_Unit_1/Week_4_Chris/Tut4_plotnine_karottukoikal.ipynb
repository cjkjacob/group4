{
 "cells": [
  {
   "cell_type": "markdown",
   "id": "9a259322-3999-4a47-8515-1c939b500cad",
   "metadata": {},
   "source": [
    "# Plotnine Tutorial: Understanding the Grammar of Graphics\n",
    "\n",
    "## 1. Introduction to Plotnine\n",
    "\n",
    "plotnine is a data visualization package for Python based on the Grammar of Graphics, which is a system for understanding and building plots. The grammar describes how plots are constructed by combining data, aesthetic mappings, geometric objects, and other components.\n",
    "\n",
    "To begin, you’ll need to install the plotnine package if you don’t have it installed:\n",
    "\n",
    "```bash\n",
    "pip install plotnine\n",
    "```\n",
    "\n",
    "## 2. The Grammar of Graphics\n",
    "\n",
    "The Grammar of Graphics consists of the following key components:\n",
    "\n",
    "- Data: The data you want to visualize.  \n",
    "- Aesthetics (aes): How the data is mapped to visual properties, such as x and y coordinates, color, size, etc.  \n",
    "- Geometries (geom): The type of plot, like points, lines, bars, etc.  \n",
    "- Facets: Subplots based on the data.  \n",
    "- Scales: Control the mapping from data to aesthetic properties.  \n",
    "- Coordinate systems: Adjust how data is projected on the plane (Cartesian, rotations, polar, etc.).  \n",
    "- Themes: Adjust the non-data elements like background, labels, gridlines, etc.  \n",
    "\n",
    "## 3. Creating Your First Plot\n",
    "\n",
    "Let’s begin by creating a simple scatter plot using the famous mtcars dataset. We’ll show how to set up the basic structure and gradually build complexity."
   ]
  },
  {
   "cell_type": "code",
   "execution_count": 1,
   "id": "c44d825d-e282-4fba-8bd6-e47338b1de0d",
   "metadata": {},
   "outputs": [
    {
     "name": "stdout",
     "output_type": "stream",
     "text": [
      "<class 'pandas.core.frame.DataFrame'>\n",
      "RangeIndex: 32 entries, 0 to 31\n",
      "Data columns (total 14 columns):\n",
      " #   Column   Non-Null Count  Dtype  \n",
      "---  ------   --------------  -----  \n",
      " 0   mpg      32 non-null     float64\n",
      " 1   cyl      32 non-null     int64  \n",
      " 2   disp     32 non-null     float64\n",
      " 3   hp       32 non-null     int64  \n",
      " 4   drat     32 non-null     float64\n",
      " 5   wt       32 non-null     float64\n",
      " 6   qsec     32 non-null     float64\n",
      " 7   vs       32 non-null     int64  \n",
      " 8   am       32 non-null     int64  \n",
      " 9   gear     32 non-null     int64  \n",
      " 10  carb     32 non-null     int64  \n",
      " 11  fast     32 non-null     int64  \n",
      " 12  cars     32 non-null     object \n",
      " 13  carname  32 non-null     object \n",
      "dtypes: float64(5), int64(7), object(2)\n",
      "memory usage: 3.6+ KB\n"
     ]
    },
    {
     "name": "stderr",
     "output_type": "stream",
     "text": [
      "c:\\users\\chris\\desktop\\oru folder\\fall 2024\\gcsc 577\\group4\\python_unit_1\\week_4_chris\\venv477\\lib\\site-packages\\plotnine\\ggplot.py:606: PlotnineWarning: Saving 6.4 x 4.8 in image.\n",
      "c:\\users\\chris\\desktop\\oru folder\\fall 2024\\gcsc 577\\group4\\python_unit_1\\week_4_chris\\venv477\\lib\\site-packages\\plotnine\\ggplot.py:607: PlotnineWarning: Filename: ScatterPlot_MPG_Weight.png\n"
     ]
    }
   ],
   "source": [
    "# Import required libraries\n",
    "import pandas as pd\n",
    "from plotnine import ggplot, aes, geom_point, labs\n",
    "\n",
    "# Load the mtcars dataset\n",
    "mtcars = pd.read_csv('https://raw.githubusercontent.com/selva86/datasets/master/mtcars.csv')\n",
    "mtcars.info()\n",
    "\n",
    "# Create a basic scatter plot\n",
    "p1 = (ggplot(mtcars, aes(x='wt', y='mpg')) +\n",
    " geom_point() +\n",
    " labs(title='Scatter Plot of MPG vs Weight',\n",
    "      x='Weight (1000 lbs)',\n",
    "      y='Miles per Gallon'))\n",
    "p1.save(\"ScatterPlot_MPG_Weight.png\")"
   ]
  },
  {
   "cell_type": "markdown",
   "id": "f87b72aa-f1fa-4247-a649-32b009b856b9",
   "metadata": {},
   "source": [
    "## 4. Adding Aesthetic Mappings\n",
    "\n",
    "In the Grammar of Graphics, aesthetics control how data points are represented visually. You can map variables to size, color, shape, and more.\n",
    "\n",
    "### Example: Color by cyl (number of cylinders)"
   ]
  },
  {
   "cell_type": "code",
   "execution_count": 2,
   "id": "f46b501a-d62c-46cd-ba93-de4ce0821435",
   "metadata": {},
   "outputs": [
    {
     "name": "stderr",
     "output_type": "stream",
     "text": [
      "c:\\users\\chris\\desktop\\oru folder\\fall 2024\\gcsc 577\\group4\\python_unit_1\\week_4_chris\\venv477\\lib\\site-packages\\plotnine\\ggplot.py:606: PlotnineWarning: Saving 6.4 x 4.8 in image.\n",
      "c:\\users\\chris\\desktop\\oru folder\\fall 2024\\gcsc 577\\group4\\python_unit_1\\week_4_chris\\venv477\\lib\\site-packages\\plotnine\\ggplot.py:607: PlotnineWarning: Filename: MPG_Weight_Cylinder.png\n"
     ]
    }
   ],
   "source": [
    "p2 = (ggplot(mtcars, aes(x='wt', y='mpg', color='factor(cyl)')) +\n",
    " geom_point() +\n",
    " labs(title='MPG vs Weight by Cylinder',\n",
    "      x='Weight (1000 lbs)',\n",
    "      y='Miles per Gallon',\n",
    "      color='Cylinders'))\n",
    "p2.save(\"MPG_Weight_Cylinder.png\")"
   ]
  },
  {
   "cell_type": "markdown",
   "id": "6eca54fc-1300-4e5e-97c4-3ff0e877dd27",
   "metadata": {},
   "source": [
    "### Example: Size by horsepower (hp)"
   ]
  },
  {
   "cell_type": "code",
   "execution_count": 3,
   "id": "8f428241-3e85-4350-be3a-267b33ef8363",
   "metadata": {},
   "outputs": [
    {
     "name": "stderr",
     "output_type": "stream",
     "text": [
      "c:\\users\\chris\\desktop\\oru folder\\fall 2024\\gcsc 577\\group4\\python_unit_1\\week_4_chris\\venv477\\lib\\site-packages\\plotnine\\ggplot.py:606: PlotnineWarning: Saving 6.4 x 4.8 in image.\n",
      "c:\\users\\chris\\desktop\\oru folder\\fall 2024\\gcsc 577\\group4\\python_unit_1\\week_4_chris\\venv477\\lib\\site-packages\\plotnine\\ggplot.py:607: PlotnineWarning: Filename: MPG_Weight_Cyl_HP.png\n"
     ]
    }
   ],
   "source": [
    "p3 = (ggplot(mtcars, aes(x='wt', y='mpg', color='factor(cyl)', size='hp')) +\n",
    " geom_point() +\n",
    " labs(title='MPG vs Weight by Cylinder and Horsepower',\n",
    "      x='Weight (1000 lbs)',\n",
    "      y='Miles per Gallon',\n",
    "      color='Cylinders',\n",
    "      size='Horsepower'))\n",
    "p3.save(\"MPG_Weight_Cyl_HP.png\")"
   ]
  },
  {
   "cell_type": "markdown",
   "id": "4cd24b1e-30c0-4688-84d2-2549db170120",
   "metadata": {},
   "source": [
    "## 5. Geometric Objects\n",
    "\n",
    "geom_* specifies the type of plot. You can create scatter plots, line charts, bar plots, histograms, etc.\n",
    "\n",
    "### Example: Adding a smooth line (geom_smooth)"
   ]
  },
  {
   "cell_type": "code",
   "execution_count": 4,
   "id": "ad1dfc25-1169-4084-9213-d1215114135c",
   "metadata": {},
   "outputs": [
    {
     "name": "stderr",
     "output_type": "stream",
     "text": [
      "c:\\users\\chris\\desktop\\oru folder\\fall 2024\\gcsc 577\\group4\\python_unit_1\\week_4_chris\\venv477\\lib\\site-packages\\plotnine\\ggplot.py:606: PlotnineWarning: Saving 6.4 x 4.8 in image.\n",
      "c:\\users\\chris\\desktop\\oru folder\\fall 2024\\gcsc 577\\group4\\python_unit_1\\week_4_chris\\venv477\\lib\\site-packages\\plotnine\\ggplot.py:607: PlotnineWarning: Filename: MPG_Weight_Regression.png\n"
     ]
    }
   ],
   "source": [
    "from plotnine import geom_smooth\n",
    "\n",
    "p4 = (ggplot(mtcars, aes(x='wt', y='mpg')) +\n",
    " geom_point() +\n",
    " geom_smooth(method='lm') +  # Linear regression line\n",
    " labs(title='MPG vs Weight with Regression Line',\n",
    "      x='Weight (1000 lbs)',\n",
    "      y='Miles per Gallon'))\n",
    "p4.save(\"MPG_Weight_Regression.png\")"
   ]
  },
  {
   "cell_type": "markdown",
   "id": "da3935bb-865a-468c-8d7f-27a93fd573e4",
   "metadata": {},
   "source": [
    "## 6. Faceting\n",
    "\n",
    "Faceting allows you to split your plot into multiple panels based on a factor.\n",
    "\n",
    "### Example: Facet by cyl"
   ]
  },
  {
   "cell_type": "code",
   "execution_count": 5,
   "id": "300af856-33f3-4b13-86a3-9cf7cec2f103",
   "metadata": {},
   "outputs": [
    {
     "name": "stderr",
     "output_type": "stream",
     "text": [
      "c:\\users\\chris\\desktop\\oru folder\\fall 2024\\gcsc 577\\group4\\python_unit_1\\week_4_chris\\venv477\\lib\\site-packages\\plotnine\\ggplot.py:606: PlotnineWarning: Saving 6.4 x 4.8 in image.\n",
      "c:\\users\\chris\\desktop\\oru folder\\fall 2024\\gcsc 577\\group4\\python_unit_1\\week_4_chris\\venv477\\lib\\site-packages\\plotnine\\ggplot.py:607: PlotnineWarning: Filename: MPG_Weight_Faceted.png\n"
     ]
    }
   ],
   "source": [
    "from plotnine import facet_wrap\n",
    "\n",
    "p5 = (ggplot(mtcars, aes(x='wt', y='mpg')) +\n",
    " geom_point() +\n",
    " facet_wrap('~cyl') +  # Split into subplots by cylinders\n",
    " labs(title='MPG vs Weight Faceted by Cylinder',\n",
    "      x='Weight (1000 lbs)',\n",
    "      y='Miles per Gallon'))\n",
    "p5.save(\"MPG_Weight_Faceted.png\")"
   ]
  },
  {
   "cell_type": "markdown",
   "id": "168db4bf-fc5e-4692-8bdc-8f5dff3cd795",
   "metadata": {},
   "source": [
    "## 7. Customizing Scales\n",
    "\n",
    "Scales control the mapping from data to aesthetic attributes. You can customize scales for color, size, and more.\n",
    "\n",
    "### Example: Custom Color Scale"
   ]
  },
  {
   "cell_type": "code",
   "execution_count": 6,
   "id": "aee5bddb-7c42-4cd7-bdab-a209e5715d48",
   "metadata": {},
   "outputs": [
    {
     "name": "stderr",
     "output_type": "stream",
     "text": [
      "c:\\users\\chris\\desktop\\oru folder\\fall 2024\\gcsc 577\\group4\\python_unit_1\\week_4_chris\\venv477\\lib\\site-packages\\plotnine\\ggplot.py:606: PlotnineWarning: Saving 6.4 x 4.8 in image.\n",
      "c:\\users\\chris\\desktop\\oru folder\\fall 2024\\gcsc 577\\group4\\python_unit_1\\week_4_chris\\venv477\\lib\\site-packages\\plotnine\\ggplot.py:607: PlotnineWarning: Filename: MPG_Weight_CustomColors.png\n"
     ]
    }
   ],
   "source": [
    "from plotnine import scale_color_manual\n",
    "\n",
    "p6 = (ggplot(mtcars, aes(x='wt', y='mpg', color='factor(cyl)')) +\n",
    " geom_point() +\n",
    " scale_color_manual(values=['#1e07bf', '#fe0f0f', '#2e002f']) +  # Custom colors\n",
    " labs(title='MPG vs Weight with Custom Colors',\n",
    "      x='Weight (1000 lbs)',\n",
    "      y='Miles per Gallon',\n",
    "      color='Cylinders'))\n",
    "\n",
    "p6.save(\"MPG_Weight_CustomColors.png\")"
   ]
  },
  {
   "cell_type": "markdown",
   "id": "69d08111-4b08-4726-be64-c5f342591ff6",
   "metadata": {},
   "source": [
    "## 8. Flip Coordinates\n",
    "\n",
    "Create a bar plot showing distribution of cylinders\n",
    "\n",
    "\n",
    "### Example: Fliping coordinates axis"
   ]
  },
  {
   "cell_type": "code",
   "execution_count": 7,
   "id": "ee15dc38-36ad-45e6-a718-4a5eadb774c9",
   "metadata": {},
   "outputs": [
    {
     "name": "stderr",
     "output_type": "stream",
     "text": [
      "c:\\users\\chris\\desktop\\oru folder\\fall 2024\\gcsc 577\\group4\\python_unit_1\\week_4_chris\\venv477\\lib\\site-packages\\plotnine\\ggplot.py:606: PlotnineWarning: Saving 6.4 x 4.8 in image.\n",
      "c:\\users\\chris\\desktop\\oru folder\\fall 2024\\gcsc 577\\group4\\python_unit_1\\week_4_chris\\venv477\\lib\\site-packages\\plotnine\\ggplot.py:607: PlotnineWarning: Filename: Dist_Cyl.png\n"
     ]
    }
   ],
   "source": [
    "from plotnine import geom_bar, coord_flip\n",
    "\n",
    "# Create a bar plot showing distribution of cylinders\n",
    "p7 = (ggplot(mtcars, aes(x='factor(cyl)', fill='factor(cyl)')) +\n",
    " geom_bar(width=1) +\n",
    " coord_flip() +  # Flip coordinates as a simple workaround\n",
    " labs(title='Distribution of Cylinders',\n",
    "      x='Cylinders',\n",
    "      fill='Cylinders'))\n",
    "p7.save(\"Dist_Cyl.png\")"
   ]
  },
  {
   "cell_type": "markdown",
   "id": "d096920f-e0c6-4275-b081-4a6cc99ba979",
   "metadata": {},
   "source": [
    "## 9. Themes\n",
    "\n",
    "Themes allow you to adjust the non-data aspects of the plot, such as background, axis labels, and gridlines.\n",
    "\n",
    "### Example: Apply a Minimal Theme"
   ]
  },
  {
   "cell_type": "code",
   "execution_count": 8,
   "id": "9b1ef6d7-5234-475f-a5c8-4b313a9c4ab4",
   "metadata": {},
   "outputs": [
    {
     "name": "stderr",
     "output_type": "stream",
     "text": [
      "c:\\users\\chris\\desktop\\oru folder\\fall 2024\\gcsc 577\\group4\\python_unit_1\\week_4_chris\\venv477\\lib\\site-packages\\plotnine\\ggplot.py:606: PlotnineWarning: Saving 6.4 x 4.8 in image.\n",
      "c:\\users\\chris\\desktop\\oru folder\\fall 2024\\gcsc 577\\group4\\python_unit_1\\week_4_chris\\venv477\\lib\\site-packages\\plotnine\\ggplot.py:607: PlotnineWarning: Filename: Minimal_Theme.png\n"
     ]
    }
   ],
   "source": [
    "from plotnine import theme_minimal\n",
    "\n",
    "p8 = (ggplot(mtcars, aes(x='wt', y='mpg')) +\n",
    " geom_point() +\n",
    " theme_minimal() +  # Minimalistic theme\n",
    " labs(title='MPG vs Weight with Minimal Theme',\n",
    "      x='Weight (1000 lbs)',\n",
    "      y='Miles per Gallon'))\n",
    "p8.save(\"Minimal_Theme.png\")"
   ]
  },
  {
   "cell_type": "markdown",
   "id": "2c0308dc-8081-47d7-85e2-d53a6a8811f2",
   "metadata": {},
   "source": [
    "## 10. Saving the Plot\n",
    "\n",
    "You can save your plot using the save method.\n",
    "\n",
    "### Example: Save the plot"
   ]
  },
  {
   "cell_type": "code",
   "execution_count": 9,
   "id": "1986d672-9f50-4ffa-929a-37be17bb7ea2",
   "metadata": {},
   "outputs": [
    {
     "name": "stderr",
     "output_type": "stream",
     "text": [
      "c:\\users\\chris\\desktop\\oru folder\\fall 2024\\gcsc 577\\group4\\python_unit_1\\week_4_chris\\venv477\\lib\\site-packages\\plotnine\\ggplot.py:606: PlotnineWarning: Saving 6.4 x 4.8 in image.\n",
      "c:\\users\\chris\\desktop\\oru folder\\fall 2024\\gcsc 577\\group4\\python_unit_1\\week_4_chris\\venv477\\lib\\site-packages\\plotnine\\ggplot.py:607: PlotnineWarning: Filename: mpg_vs_weight.png\n"
     ]
    }
   ],
   "source": [
    "# Save the plot to a file\n",
    "p9 = (ggplot(mtcars, aes(x='wt', y='mpg')) +\n",
    "     geom_point() +\n",
    "     labs(title='MPG vs Weight',\n",
    "          x='Weight (1000 lbs)',\n",
    "          y='Miles per Gallon'))\n",
    "\n",
    "p9.save(\"mpg_vs_weight.png\")"
   ]
  },
  {
   "cell_type": "code",
   "execution_count": 10,
   "id": "d7746b85-a3a4-4e34-9062-cb9da24d453f",
   "metadata": {},
   "outputs": [
    {
     "name": "stderr",
     "output_type": "stream",
     "text": [
      "c:\\users\\chris\\desktop\\oru folder\\fall 2024\\gcsc 577\\group4\\python_unit_1\\week_4_chris\\venv477\\lib\\site-packages\\plotnine\\ggplot.py:606: PlotnineWarning: Saving 6.4 x 4.8 in image.\n",
      "c:\\users\\chris\\desktop\\oru folder\\fall 2024\\gcsc 577\\group4\\python_unit_1\\week_4_chris\\venv477\\lib\\site-packages\\plotnine\\ggplot.py:607: PlotnineWarning: Filename: ScatterPlot_HP_vs_Weight_ErrorBars.png\n"
     ]
    }
   ],
   "source": [
    "p10 = (ggplot(mtcars, aes(x='wt', y='hp')) +\n",
    " geom_point() +\n",
    " geom_smooth(method='lm') +\n",
    " labs(title='Scatter Plot of HP vs Weight',\n",
    "      x='Weight (1000 lbs)',\n",
    "      y='Horsepower'))\n",
    "p10.save(\"ScatterPlot_HP_vs_Weight_ErrorBars.png\")"
   ]
  }
 ],
 "metadata": {
  "kernelspec": {
   "display_name": "Python 3 (ipykernel)",
   "language": "python",
   "name": "python3"
  },
  "language_info": {
   "codemirror_mode": {
    "name": "ipython",
    "version": 3
   },
   "file_extension": ".py",
   "mimetype": "text/x-python",
   "name": "python",
   "nbconvert_exporter": "python",
   "pygments_lexer": "ipython3",
   "version": "3.9.6"
  }
 },
 "nbformat": 4,
 "nbformat_minor": 5
}
